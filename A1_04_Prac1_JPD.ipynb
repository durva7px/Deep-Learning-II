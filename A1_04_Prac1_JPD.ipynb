{
  "cells": [
    {
      "cell_type": "markdown",
      "metadata": {
        "id": "7a_Pgt6YwTv9"
      },
      "source": [
        "### Deep Learning - II Lab\n",
        "### Name: Durva Deshpande\n",
        "### Batch: A1\n",
        "### Roll No: 4\n",
        "\n",
        "### Module 1: Introduction to Graphical Model - Joint Probability Distribution"
      ]
    },
    {
      "cell_type": "code",
      "execution_count": 1,
      "metadata": {
        "colab": {
          "base_uri": "https://localhost:8080/",
          "height": 206
        },
        "id": "swR2qYiiwTwA",
        "outputId": "9900f197-9f83-40b8-8646-87a1bab6a40f"
      },
      "outputs": [
        {
          "data": {
            "text/html": [
              "<div>\n",
              "<style scoped>\n",
              "    .dataframe tbody tr th:only-of-type {\n",
              "        vertical-align: middle;\n",
              "    }\n",
              "\n",
              "    .dataframe tbody tr th {\n",
              "        vertical-align: top;\n",
              "    }\n",
              "\n",
              "    .dataframe thead th {\n",
              "        text-align: right;\n",
              "    }\n",
              "</style>\n",
              "<table border=\"1\" class=\"dataframe\">\n",
              "  <thead>\n",
              "    <tr style=\"text-align: right;\">\n",
              "      <th></th>\n",
              "      <th>User ID</th>\n",
              "      <th>Gender</th>\n",
              "      <th>Age</th>\n",
              "      <th>EstimatedSalary</th>\n",
              "      <th>Purchased</th>\n",
              "    </tr>\n",
              "  </thead>\n",
              "  <tbody>\n",
              "    <tr>\n",
              "      <th>0</th>\n",
              "      <td>15624510</td>\n",
              "      <td>Male</td>\n",
              "      <td>19</td>\n",
              "      <td>19000</td>\n",
              "      <td>0</td>\n",
              "    </tr>\n",
              "    <tr>\n",
              "      <th>1</th>\n",
              "      <td>15810944</td>\n",
              "      <td>Male</td>\n",
              "      <td>35</td>\n",
              "      <td>20000</td>\n",
              "      <td>0</td>\n",
              "    </tr>\n",
              "    <tr>\n",
              "      <th>2</th>\n",
              "      <td>15668575</td>\n",
              "      <td>Female</td>\n",
              "      <td>26</td>\n",
              "      <td>43000</td>\n",
              "      <td>0</td>\n",
              "    </tr>\n",
              "    <tr>\n",
              "      <th>3</th>\n",
              "      <td>15603246</td>\n",
              "      <td>Female</td>\n",
              "      <td>27</td>\n",
              "      <td>57000</td>\n",
              "      <td>0</td>\n",
              "    </tr>\n",
              "    <tr>\n",
              "      <th>4</th>\n",
              "      <td>15804002</td>\n",
              "      <td>Male</td>\n",
              "      <td>19</td>\n",
              "      <td>76000</td>\n",
              "      <td>0</td>\n",
              "    </tr>\n",
              "  </tbody>\n",
              "</table>\n",
              "</div>"
            ],
            "text/plain": [
              "    User ID  Gender  Age  EstimatedSalary  Purchased\n",
              "0  15624510    Male   19            19000          0\n",
              "1  15810944    Male   35            20000          0\n",
              "2  15668575  Female   26            43000          0\n",
              "3  15603246  Female   27            57000          0\n",
              "4  15804002    Male   19            76000          0"
            ]
          },
          "execution_count": 1,
          "metadata": {},
          "output_type": "execute_result"
        }
      ],
      "source": [
        "# Reading the Data using pandas\n",
        "import pandas as pd\n",
        "data = pd.read_csv(r'Datasets\\Customer_Behaviour.csv')\n",
        "# dataset: https://www.kaggle.com/code/arezalo/customer-behaviour-prediction-naive-bayes/input\n",
        "data.head()"
      ]
    },
    {
      "cell_type": "code",
      "execution_count": 2,
      "metadata": {
        "colab": {
          "base_uri": "https://localhost:8080/"
        },
        "id": "lUDY_Nz3w3y8",
        "outputId": "080fe0c7-59ad-4d01-e39e-66fc866fea21"
      },
      "outputs": [
        {
          "data": {
            "text/plain": [
              "(400, 5)"
            ]
          },
          "execution_count": 2,
          "metadata": {},
          "output_type": "execute_result"
        }
      ],
      "source": [
        "data.shape"
      ]
    },
    {
      "cell_type": "code",
      "execution_count": 3,
      "metadata": {
        "colab": {
          "base_uri": "https://localhost:8080/"
        },
        "id": "JzZSMOOswTwB",
        "outputId": "0996c1b1-0546-499b-a0f9-8abb50c71763"
      },
      "outputs": [
        {
          "name": "stdout",
          "output_type": "stream",
          "text": [
            "Joint Probability based on Gender \n",
            " Gender  Purchased\n",
            "Female  0            0.3175\n",
            "        1            0.1925\n",
            "Male    0            0.3250\n",
            "        1            0.1650\n",
            "dtype: float64\n"
          ]
        }
      ],
      "source": [
        "#Joint Probability\n",
        "joint_prob_Gender = data.groupby(['Gender','Purchased']).size()/400\n",
        "print(\"Joint Probability based on Gender \\n\", joint_prob_Gender, end=\"\\n\")"
      ]
    },
    {
      "cell_type": "code",
      "execution_count": 4,
      "metadata": {
        "colab": {
          "base_uri": "https://localhost:8080/"
        },
        "id": "RkAb53ugwTwC",
        "outputId": "da8a1b38-5c37-4967-e0e6-e55d30b79e0a"
      },
      "outputs": [
        {
          "name": "stdout",
          "output_type": "stream",
          "text": [
            "Joint Probability based on Age \n",
            "  Age  Purchased\n",
            "18   0            0.0125\n",
            "19   0            0.0175\n",
            "20   0            0.0175\n",
            "21   0            0.0100\n",
            "22   0            0.0125\n",
            "                   ...  \n",
            "57   1            0.0125\n",
            "58   1            0.0150\n",
            "59   0            0.0050\n",
            "     1            0.0125\n",
            "60   1            0.0175\n",
            "Length: 70, dtype: float64\n"
          ]
        }
      ],
      "source": [
        "#Joint Probability\n",
        "joint_prob_Age = data.groupby(['Age','Purchased']).size()/400\n",
        "print(\"Joint Probability based on Age \\n \", joint_prob_Age, end=\"\\n\")\n"
      ]
    },
    {
      "cell_type": "code",
      "execution_count": 5,
      "metadata": {
        "colab": {
          "base_uri": "https://localhost:8080/"
        },
        "id": "aiBLugsJwTwC",
        "outputId": "f491a504-ea21-4ad0-d4d2-f31e9ea75f65"
      },
      "outputs": [
        {
          "name": "stdout",
          "output_type": "stream",
          "text": [
            "Joint Probability based on Age, Gender \n",
            " Age  Gender  Purchased\n",
            "18   Female  0            0.0075\n",
            "     Male    0            0.0050\n",
            "19   Female  0            0.0050\n",
            "     Male    0            0.0125\n",
            "20   Female  0            0.0100\n",
            "                           ...  \n",
            "59   Female  0            0.0050\n",
            "             1            0.0075\n",
            "     Male    1            0.0050\n",
            "60   Female  1            0.0050\n",
            "     Male    1            0.0125\n",
            "Length: 119, dtype: float64\n"
          ]
        }
      ],
      "source": [
        "#Joint Probability\n",
        "Joint_Prob_Age_Gender = data.groupby(['Age','Gender','Purchased']).size()/400\n",
        "print(\"Joint Probability based on Age, Gender \\n\", Joint_Prob_Age_Gender, end=\"\\n\")"
      ]
    },
    {
      "cell_type": "markdown",
      "metadata": {
        "id": "WoXyxXw6bRuN"
      },
      "source": [
        " Q1: What is the joint probability of a Male aged 35 purchasing a car?"
      ]
    },
    {
      "cell_type": "code",
      "execution_count": 6,
      "metadata": {
        "colab": {
          "base_uri": "https://localhost:8080/"
        },
        "collapsed": true,
        "id": "_j4xjl-RwTwD",
        "outputId": "cc371b36-0ff0-4276-de6f-8f2c9be2cd4f"
      },
      "outputs": [
        {
          "name": "stdout",
          "output_type": "stream",
          "text": [
            "Joint Probability (Male, Age 35, Purchased=1): 0.0025\n"
          ]
        }
      ],
      "source": [
        "prob_q1 = Joint_Prob_Age_Gender.get((35, 'Male', 1), 0)\n",
        "print(f\"Joint Probability (Male, Age 35, Purchased=1): {prob_q1}\")"
      ]
    },
    {
      "cell_type": "markdown",
      "metadata": {
        "id": "B9fjr0kEbVfM"
      },
      "source": [
        "Q2: What is the joint probability of a Female aged 40 NOT purchasing a car?"
      ]
    },
    {
      "cell_type": "code",
      "execution_count": 7,
      "metadata": {
        "colab": {
          "base_uri": "https://localhost:8080/"
        },
        "id": "YBIxhH4Fa0W9",
        "outputId": "b4f58f93-d2fb-4587-da59-8c9f969fe7d7"
      },
      "outputs": [
        {
          "name": "stdout",
          "output_type": "stream",
          "text": [
            "Joint Probability (Female, Age 40, Purchased=0): 0.0075\n"
          ]
        }
      ],
      "source": [
        "prob_q2 = Joint_Prob_Age_Gender.get((40, 'Female', 0), 0)\n",
        "print(f\"Joint Probability (Female, Age 40, Purchased=0): {prob_q2}\")"
      ]
    },
    {
      "cell_type": "markdown",
      "metadata": {
        "id": "bFcGtgnzbh5l"
      },
      "source": [
        "Q3: What is the total joint probability for Age 25, regardless of Gender or Purchase?"
      ]
    },
    {
      "cell_type": "code",
      "execution_count": 8,
      "metadata": {
        "colab": {
          "base_uri": "https://localhost:8080/"
        },
        "id": "SJnGqU6abaiI",
        "outputId": "14284a5a-33e5-42fd-8660-69160cb066ab"
      },
      "outputs": [
        {
          "name": "stdout",
          "output_type": "stream",
          "text": [
            "Total Joint Probability for Age 25: 0.015\n"
          ]
        }
      ],
      "source": [
        "age_25_data = data[data['Age'] == 25]\n",
        "prob_q3 = len(age_25_data) / 400\n",
        "print(f\"Total Joint Probability for Age 25: {prob_q3}\")"
      ]
    },
    {
      "cell_type": "markdown",
      "metadata": {
        "id": "Wtco5TLxbtD8"
      },
      "source": [
        "Q4: What is the conditional probability of purchase given Male and Age 50?"
      ]
    },
    {
      "cell_type": "code",
      "execution_count": 9,
      "metadata": {
        "colab": {
          "base_uri": "https://localhost:8080/"
        },
        "id": "q3Jv-H0vbmfJ",
        "outputId": "1f96902f-752c-442d-9a67-7db5dc33dac9"
      },
      "outputs": [
        {
          "name": "stdout",
          "output_type": "stream",
          "text": [
            "Conditional Probability (Male, Age 50, Purchased=1 | Male, Age 50): 0\n"
          ]
        }
      ],
      "source": [
        "subset_q4 = data[(data['Age'] == 50) & (data['Gender'] == 'Male')]\n",
        "purchased_q4 = subset_q4[subset_q4['Purchased'] == 1]\n",
        "prob_q4 = len(purchased_q4) / len(subset_q4) if len(subset_q4) > 0 else 0\n",
        "print(f\"Conditional Probability (Male, Age 50, Purchased=1 | Male, Age 50): {prob_q4}\")"
      ]
    },
    {
      "cell_type": "markdown",
      "metadata": {
        "id": "uUBwnX4rb1p2"
      },
      "source": [
        "Q5: For all Females, what is the probability of purchasing a car?"
      ]
    },
    {
      "cell_type": "code",
      "execution_count": 10,
      "metadata": {
        "colab": {
          "base_uri": "https://localhost:8080/"
        },
        "id": "zqj5A28RbzOm",
        "outputId": "e8d2f22c-0d35-464d-c9e7-8376c5911372"
      },
      "outputs": [
        {
          "name": "stdout",
          "output_type": "stream",
          "text": [
            "Probability (Female, Purchased=1): 0.37745098039215685\n"
          ]
        }
      ],
      "source": [
        "female_data = data[data['Gender'] == 'Female']\n",
        "purchased_female = female_data[female_data['Purchased'] == 1]\n",
        "prob_q5 = len(purchased_female) / len(female_data) if len(female_data) > 0 else 0\n",
        "print(f\"Probability (Female, Purchased=1): {prob_q5}\")"
      ]
    },
    {
      "cell_type": "markdown",
      "metadata": {
        "id": "wNh3eng6cICF"
      },
      "source": [
        "6. Calculate the joint probability that a customer is 30 years old, male, and purchased a car.\n",
        "\n",
        "7. Determine the joint probability for a female aged 40 who did not purchase a car.\n",
        "\n",
        "8. What is the joint probability that a randomly selected individual aged 50, regardless of gender, has purchased a car?\n",
        "\n",
        "9. If the joint probability of purchasing a car at age 28 for males is 0.06 and for females is 0.04, what is the total joint probability for age 28?\n",
        "\n",
        "10. For age 45, if the joint probability of purchasing a car for males is 0.08 and not purchasing is 0.02, what is the conditional probability of purchasing given the person is a 45-year-old male?"
      ]
    },
    {
      "cell_type": "code",
      "execution_count": 11,
      "metadata": {
        "id": "QLV5s_9Yb3bA"
      },
      "outputs": [
        {
          "name": "stdout",
          "output_type": "stream",
          "text": [
            "Joint Probability of a customer that is 30 yrs old, male and purchased car is: 0.005\n"
          ]
        }
      ],
      "source": [
        "# Q6\n",
        "prob_q6 = Joint_Prob_Age_Gender.get((30, 'Male', 1), 0)\n",
        "print(f\"Joint Probability of a customer that is 30 yrs old, male and purchased car is: {prob_q6}\")"
      ]
    },
    {
      "cell_type": "code",
      "execution_count": 12,
      "metadata": {},
      "outputs": [
        {
          "name": "stdout",
          "output_type": "stream",
          "text": [
            "Joint probability for a female aged 40 who did not purchase a car: 0.0075\n"
          ]
        }
      ],
      "source": [
        "# Q7\n",
        "prob_q7 = Joint_Prob_Age_Gender.get((40, 'Female', 0), 0)\n",
        "print(f\"Joint probability for a female aged 40 who did not purchase a car: {prob_q7}\")"
      ]
    },
    {
      "cell_type": "code",
      "execution_count": 13,
      "metadata": {},
      "outputs": [
        {
          "name": "stdout",
          "output_type": "stream",
          "text": [
            "Joint Probability of a 50-year-old individual (any gender) who purchased a car: 0.0075\n"
          ]
        }
      ],
      "source": [
        "# Q8\n",
        "prob_50_male = Joint_Prob_Age_Gender.get((50, 'Male', 1), 0)\n",
        "prob_50_female = Joint_Prob_Age_Gender.get((50, 'Female', 1), 0)\n",
        "\n",
        "total_joint_prob_50 = prob_50_male + prob_50_female\n",
        "print(f\"Joint Probability of a 50-year-old individual (any gender) who purchased a car: {total_joint_prob_50}\")"
      ]
    },
    {
      "cell_type": "code",
      "execution_count": 14,
      "metadata": {},
      "outputs": [
        {
          "name": "stdout",
          "output_type": "stream",
          "text": [
            "Total joint probability for age 28 (purchased car): 0.1\n"
          ]
        }
      ],
      "source": [
        "# Q9\n",
        "prob_28_male = 0.06\n",
        "prob_28_female = 0.04\n",
        "\n",
        "total_joint_prob_28 = prob_28_male + prob_28_female\n",
        "print(f\"Total joint probability for age 28 (purchased car): {total_joint_prob_28}\")"
      ]
    },
    {
      "cell_type": "code",
      "execution_count": 15,
      "metadata": {},
      "outputs": [
        {
          "name": "stdout",
          "output_type": "stream",
          "text": [
            "Conditional probability of purchasing given age 45 and male: 0.7999999999999999\n"
          ]
        }
      ],
      "source": [
        "# Q10\n",
        "conditional_prob = 0.08 / (0.08 + 0.02)\n",
        "print(f\"Conditional probability of purchasing given age 45 and male: {conditional_prob}\")"
      ]
    },
    {
      "cell_type": "markdown",
      "metadata": {},
      "source": [
        "### Conclusion\n",
        "In this practical, we explored the concept of Joint Probability Distributions using a real-world dataset of customer behavior. By leveraging Pandas for data manipulation and grouping, we computed joint probabilities based on Age, Gender, and Purchase behavior. We analyzed several scenarios to understand how these attributes interact, including:\n",
        "\n",
        "- Joint probabilities for specific age-gender-purchase combinations.\n",
        "\n",
        "- Aggregate joint probabilities across genders and ages.\n",
        "\n",
        "- Conditional probabilities to assess the likelihood of purchasing a car given demographic characteristics.\n",
        "\n",
        "Through these computations, we gained valuable insights into how probabilistic graphical models can represent dependencies among multiple variables. This foundational understanding sets the stage for more advanced topics in graphical models, such as Bayesian networks and inference techniques."
      ]
    }
  ],
  "metadata": {
    "colab": {
      "provenance": []
    },
    "kernelspec": {
      "display_name": "Python 3",
      "language": "python",
      "name": "python3"
    },
    "language_info": {
      "codemirror_mode": {
        "name": "ipython",
        "version": 3
      },
      "file_extension": ".py",
      "mimetype": "text/x-python",
      "name": "python",
      "nbconvert_exporter": "python",
      "pygments_lexer": "ipython3",
      "version": "3.13.0"
    }
  },
  "nbformat": 4,
  "nbformat_minor": 0
}
