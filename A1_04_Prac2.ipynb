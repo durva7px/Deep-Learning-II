{
 "cells": [
  {
   "cell_type": "markdown",
   "id": "10f99cf3",
   "metadata": {},
   "source": [
    "### Deep Learning Lab - II\n",
    "### Name: Durva Deshpande\n",
    "### Batch: A1\n",
    "### Roll No: 4\n",
    "### Practical 2"
   ]
  },
  {
   "cell_type": "code",
   "execution_count": 5,
   "id": "b4d980e5-f684-42ca-9479-0dd1f249e57c",
   "metadata": {},
   "outputs": [],
   "source": [
    "\n",
    "import os\n",
    "import itertools\n",
    "import pandas as pd\n",
    "import numpy as np\n",
    "\n",
    "from pgmpy.models import DiscreteBayesianNetwork\n",
    "from pgmpy.estimators import BayesianEstimator, MaximumLikelihoodEstimator\n",
    "from pgmpy.inference import VariableElimination\n",
    "\n",
    "import matplotlib.pyplot as plt\n",
    "import networkx as nx\n",
    "\n",
    "# =============== 1) Load data ===============================\n",
    "\n",
    "CSV_PATH = r\"c:/Users/HP/Downloads/meera_gems.csv\"\n",
    "\n",
    "df = pd.read_csv(CSV_PATH)\n",
    "\n",
    "# Normalize values (strip spaces, enforce consistent labels)\n",
    "for c in [\"Gender\",\"Age_Group\",\"Business\",\"Employed\",\"Marital_Status\",\"Success\"]:\n",
    "    df[c] = df[c].astype(str).str.strip()\n",
    "\n",
    "# Restrict states to expected discrete sets\n",
    "expected_states = {\n",
    "    \"Gender\": [\"Male\",\"Female\"],\n",
    "    \"Age_Group\": [\">35\",\"<=35\"],\n",
    "    \"Business\": [\"Yes\",\"No\"],\n",
    "    \"Employed\": [\"Yes\",\"No\"],\n",
    "    \"Marital_Status\": [\"Married\",\"Single\"],\n",
    "    \"Success\": [\"Yes\",\"No\"],\n",
    "}\n"
   ]
  },
  {
   "cell_type": "code",
   "execution_count": 6,
   "id": "104b1be2-6dc9-4f10-8ee4-c37025a71caa",
   "metadata": {},
   "outputs": [],
   "source": [
    "# =============== 2) Define BN structure =====================\n",
    "\n",
    "# Dependency Relationships:\n",
    "# Age_Group → Marital_Status\n",
    "# Age_Group → Success\n",
    "# Gender → Success\n",
    "# Business → Employed\n",
    "# Employed → Success\n",
    "# Marital_Status → Success\n",
    "\n",
    "edges = [\n",
    "    (\"Age_Group\", \"Marital_Status\"),\n",
    "    (\"Age_Group\", \"Success\"),\n",
    "    (\"Gender\", \"Success\"),\n",
    "    (\"Business\", \"Employed\"),\n",
    "    (\"Employed\", \"Success\"),\n",
    "    (\"Marital_Status\", \"Success\"),\n",
    "]\n",
    "model = DiscreteBayesianNetwork(edges)\n"
   ]
  },
  {
   "cell_type": "code",
   "execution_count": 7,
   "id": "bb5e638b-5bcd-4869-9153-cc0ef6ba11ea",
   "metadata": {},
   "outputs": [
    {
     "name": "stderr",
     "output_type": "stream",
     "text": [
      "INFO:pgmpy: Datatype (N=numerical, C=Categorical Unordered, O=Categorical Ordered) inferred from data: \n",
      " {'Gender': 'C', 'Age_Group': 'C', 'Business': 'C', 'Employed': 'C', 'Marital_Status': 'C', 'Success': 'C'}\n"
     ]
    },
    {
     "name": "stdout",
     "output_type": "stream",
     "text": [
      "Model validation: PASSED (check_model)\n",
      "\n",
      "=== Learned CPDs (tables truncated if long) ===\n",
      "+-----------------+----------+\n",
      "| Age_Group(<=35) | 0.563636 |\n",
      "+-----------------+----------+\n",
      "| Age_Group(>35)  | 0.436364 |\n",
      "+-----------------+----------+\n",
      "\n",
      "+-------------------------+--------------------+--------------------+\n",
      "| Age_Group               | Age_Group(<=35)    | Age_Group(>35)     |\n",
      "+-------------------------+--------------------+--------------------+\n",
      "| Marital_Status(Married) | 0.5403225806451613 | 0.4479166666666667 |\n",
      "+-------------------------+--------------------+--------------------+\n",
      "| Marital_Status(Single)  | 0.4596774193548387 | 0.5520833333333334 |\n",
      "+-------------------------+--------------------+--------------------+\n",
      "\n",
      "+----------------+-------------------------+-----+-------------------------+------------------------+\n",
      "| Age_Group      | Age_Group(<=35)         | ... | Age_Group(>35)          | Age_Group(>35)         |\n",
      "+----------------+-------------------------+-----+-------------------------+------------------------+\n",
      "| Employed       | Employed(No)            | ... | Employed(Yes)           | Employed(Yes)          |\n",
      "+----------------+-------------------------+-----+-------------------------+------------------------+\n",
      "| Gender         | Gender(Female)          | ... | Gender(Male)            | Gender(Male)           |\n",
      "+----------------+-------------------------+-----+-------------------------+------------------------+\n",
      "| Marital_Status | Marital_Status(Married) | ... | Marital_Status(Married) | Marital_Status(Single) |\n",
      "+----------------+-------------------------+-----+-------------------------+------------------------+\n",
      "| Success(No)    | 0.21764705882352942     | ... | 0.5                     | 0.5                    |\n",
      "+----------------+-------------------------+-----+-------------------------+------------------------+\n",
      "| Success(Yes)   | 0.7823529411764706      | ... | 0.5                     | 0.5                    |\n",
      "+----------------+-------------------------+-----+-------------------------+------------------------+\n",
      "\n",
      "+----------------+----------+\n",
      "| Gender(Female) | 0.527273 |\n",
      "+----------------+----------+\n",
      "| Gender(Male)   | 0.472727 |\n",
      "+----------------+----------+\n",
      "\n",
      "+---------------+----------+\n",
      "| Business(No)  | 0.509091 |\n",
      "+---------------+----------+\n",
      "| Business(Yes) | 0.490909 |\n",
      "+---------------+----------+\n",
      "\n",
      "+---------------+---------------------+--------------------+\n",
      "| Business      | Business(No)        | Business(Yes)      |\n",
      "+---------------+---------------------+--------------------+\n",
      "| Employed(No)  | 0.49107142857142855 | 0.4537037037037037 |\n",
      "+---------------+---------------------+--------------------+\n",
      "| Employed(Yes) | 0.5089285714285714  | 0.5462962962962963 |\n",
      "+---------------+---------------------+--------------------+\n",
      "\n"
     ]
    }
   ],
   "source": [
    "# =============== 3) Fit CPDs ================================\n",
    "\n",
    "# Use BayesianEstimator with a small equivalent sample size to avoid zero probabilities\n",
    "# If you prefer pure MLE, replace estimator with MaximumLikelihoodEstimator.\n",
    "model.fit(\n",
    "    df[[\"Gender\",\"Age_Group\",\"Business\",\"Employed\",\"Marital_Status\",\"Success\"]],\n",
    "    estimator=BayesianEstimator,\n",
    "    prior_type=\"BDeu\",\n",
    "    equivalent_sample_size=10,\n",
    ")\n",
    "\n",
    "# Validate structure & CPDs\n",
    "assert model.check_model(), \"Model failed check_model()\"\n",
    "print(\"Model validation: PASSED (check_model)\\n\")\n",
    "\n",
    "# Optional: print CPDs\n",
    "print(\"=== Learned CPDs (tables truncated if long) ===\")\n",
    "for cpd in model.get_cpds():\n",
    "    print(cpd)\n",
    "    print()"
   ]
  },
  {
   "cell_type": "code",
   "execution_count": 8,
   "id": "1a39781f-49dd-4cb1-99ec-ba772c530bdf",
   "metadata": {},
   "outputs": [
    {
     "name": "stderr",
     "output_type": "stream",
     "text": [
      "C:\\Users\\HP\\AppData\\Local\\Temp\\ipykernel_11944\\1039342188.py:10: UserWarning: This figure includes Axes that are not compatible with tight_layout, so results might be incorrect.\n",
      "  plt.tight_layout()\n"
     ]
    },
    {
     "name": "stdout",
     "output_type": "stream",
     "text": [
      "Saved BN diagram to: bn_structure.png\n",
      "\n"
     ]
    }
   ],
   "source": [
    "# =============== 4) Draw & save BN diagram ==================\n",
    "try:\n",
    "    plt.figure(figsize=(7,5))\n",
    "    G = nx.DiGraph()\n",
    "    G.add_nodes_from([\"Age_Group\",\"Gender\",\"Business\",\"Employed\",\"Marital_Status\",\"Success\"])\n",
    "    G.add_edges_from(edges)\n",
    "    pos = nx.spring_layout(G, seed=7)  # layout for aesthetics\n",
    "    nx.draw(G, pos, with_labels=True, node_size=2200, font_size=10, arrows=True)\n",
    "    plt.title(\"Meera Campaign Bayesian Network\")\n",
    "    plt.tight_layout()\n",
    "    plt.savefig(\"bn_structure.png\", dpi=160)\n",
    "    plt.close()\n",
    "    print(\"Saved BN diagram to: bn_structure.png\\n\")\n",
    "except Exception as e:\n",
    "    print(f\"Could not save BN diagram: {e}\\n\")"
   ]
  },
  {
   "cell_type": "code",
   "execution_count": 9,
   "id": "a6bf5113-1bfa-4fb6-84a9-2618cbc25223",
   "metadata": {},
   "outputs": [],
   "source": [
    "# =============== 5) Inference helper ========================\n",
    "\n",
    "infer = VariableElimination(model)\n",
    "\n",
    "def bn_prob_success_given(evidence_dict):\n",
    "    \"\"\"Return P(Success=Yes | evidence) from the BN.\"\"\"\n",
    "    q = infer.query(variables=[\"Success\"], evidence=evidence_dict, show_progress=False)\n",
    "    return float(q.values[q.state_names[\"Success\"].index(\"Yes\")])\n",
    "\n",
    "def empirical_conditional_prob(df, target, given):\n",
    "    \"\"\"Compute empirical P(target=k | given evidence) for each level of target.\"\"\"\n",
    "    # 'given' is dict of variable:value\n",
    "    mask = pd.Series([True]*len(df))\n",
    "    for k, v in given.items():\n",
    "        mask &= (df[k] == v)\n",
    "    sub = df[mask]\n",
    "    if len(sub) == 0:\n",
    "        return {k: np.nan for k in df[target].unique()}\n",
    "    counts = sub[target].value_counts(normalize=True).to_dict()\n",
    "    # ensure both states appear\n",
    "    for s in expected_states[target]:\n",
    "        counts.setdefault(s, 0.0)\n",
    "    return counts, len(sub)\n",
    "\n",
    "def print_section(title):\n",
    "    print(f\"\\n{'='*len(title)}\\n{title}\\n{'='*len(title)}\")"
   ]
  },
  {
   "cell_type": "code",
   "execution_count": 10,
   "id": "3c668d99-2ee9-4456-b918-d62fad1cecc9",
   "metadata": {},
   "outputs": [
    {
     "name": "stdout",
     "output_type": "stream",
     "text": [
      "\n",
      "============================================================\n",
      "Task 1: Influence of attributes on Success (by BN structure)\n",
      "============================================================\n",
      "- Age_Group → Success: Age may directly affect receptiveness to the campaign (e.g., spending power/interest).\n",
      "- Gender → Success: Gender differences can influence product appeal and response.\n",
      "- Employed → Success: Employment status often correlates with disposable income and purchase intent.\n",
      "- Marital_Status → Success: Married vs Single can shape jewellery-buying occasions (gifts, weddings, festivals).\n",
      "- Age_Group → Marital_Status: Older customers more likely to be married in aggregate.\n",
      "- Business → Employed: Owning a business influences employment status (business owners may be 'Employed' by their own firm or recorded differently).\n",
      "\n"
     ]
    }
   ],
   "source": [
    "# =============== 6) TASKS ===================================\n",
    "\n",
    "# TASK 1: Explain influence (printed as text summary)\n",
    "print_section(\"Task 1: Influence of attributes on Success (by BN structure)\")\n",
    "print(\n",
    "\"\"\"- Age_Group → Success: Age may directly affect receptiveness to the campaign (e.g., spending power/interest).\n",
    "- Gender → Success: Gender differences can influence product appeal and response.\n",
    "- Employed → Success: Employment status often correlates with disposable income and purchase intent.\n",
    "- Marital_Status → Success: Married vs Single can shape jewellery-buying occasions (gifts, weddings, festivals).\n",
    "- Age_Group → Marital_Status: Older customers more likely to be married in aggregate.\n",
    "- Business → Employed: Owning a business influences employment status (business owners may be 'Employed' by their own firm or recorded differently).\n",
    "\"\"\"\n",
    ")"
   ]
  },
  {
   "cell_type": "code",
   "execution_count": 11,
   "id": "9e1f3541-f3ce-40ad-85f3-26c68dc926d1",
   "metadata": {},
   "outputs": [
    {
     "name": "stdout",
     "output_type": "stream",
     "text": [
      "\n",
      "==================\n",
      "Task 2: BN Diagram\n",
      "==================\n",
      "Saved as 'bn_structure.png' in the current directory.\n"
     ]
    }
   ],
   "source": [
    "# TASK 2: Draw the BN diagram (already saved)\n",
    "print_section(\"Task 2: BN Diagram\")\n",
    "print(\"Saved as 'bn_structure.png' in the current directory.\")\n"
   ]
  },
  {
   "cell_type": "code",
   "execution_count": 12,
   "id": "5cb3b798-900f-468a-ab93-786c9f0ee3bc",
   "metadata": {},
   "outputs": [
    {
     "name": "stdout",
     "output_type": "stream",
     "text": [
      "\n",
      "======================================\n",
      "Task 3: P(Success=Yes | Gender=Female)\n",
      "======================================\n",
      "Bayesian Network: P(Success=Yes | Gender=Female) = 0.5390\n",
      "Empirical (from data): P(Success=Yes | Gender=Female) = 0.5660  (n=53)\n"
     ]
    }
   ],
   "source": [
    "# TASK 3: P(Success=Yes | Gender=Female)\n",
    "print_section(\"Task 3: P(Success=Yes | Gender=Female)\")\n",
    "bn_p = bn_prob_success_given({\"Gender\":\"Female\"})\n",
    "(emp_counts, n_emp) = empirical_conditional_prob(df, \"Success\", {\"Gender\":\"Female\"})\n",
    "emp_p = emp_counts[\"Yes\"] if isinstance(emp_counts, dict) else np.nan\n",
    "print(f\"Bayesian Network: P(Success=Yes | Gender=Female) = {bn_p:.4f}\")\n",
    "print(f\"Empirical (from data): P(Success=Yes | Gender=Female) = {emp_p:.4f}  (n={n_emp})\")"
   ]
  },
  {
   "cell_type": "code",
   "execution_count": 13,
   "id": "67112238-9c99-4bc8-8093-65efbbef2f0f",
   "metadata": {},
   "outputs": [
    {
     "name": "stdout",
     "output_type": "stream",
     "text": [
      "\n",
      "============================================\n",
      "Task 4: Among Age>35, proportion Success=Yes\n",
      "============================================\n",
      "Empirical proportion: P(Success=Yes | Age_Group=>35) = 0.5349  (n=43)\n"
     ]
    }
   ],
   "source": [
    "print_section(\"Task 4: Among Age>35, proportion Success=Yes\")\n",
    "mask = df[\"Age_Group\"] == \">35\"\n",
    "prop_yes_agegt35 = (df.loc[mask, \"Success\"] == \"Yes\").mean() if mask.any() else np.nan\n",
    "n_agegt35 = mask.sum()\n",
    "print(f\"Empirical proportion: P(Success=Yes | Age_Group=>35) = {prop_yes_agegt35:.4f}  (n={n_agegt35})\")"
   ]
  },
  {
   "cell_type": "code",
   "execution_count": 14,
   "id": "1c8c49f9-fab7-46c4-b27c-69eef47df1e3",
   "metadata": {},
   "outputs": [
    {
     "name": "stdout",
     "output_type": "stream",
     "text": [
      "\n",
      "=============================================\n",
      "Task 5: Success rates: Employed vs Unemployed\n",
      "=============================================\n",
      "Contingency table (rows=Employed, cols=Success):\n",
      " Success   No  Yes\n",
      "Employed         \n",
      "No        17   30\n",
      "Yes       27   26 \n",
      "\n",
      "Success rate (Employed=Yes): 0.4906\n",
      "Success rate (Employed=No):  0.6383\n"
     ]
    }
   ],
   "source": [
    "# TASK 5: Significant difference in Success between Employed vs Unemployed\n",
    "print_section(\"Task 5: Success rates: Employed vs Unemployed\")\n",
    "tab = pd.crosstab(df[\"Employed\"], df[\"Success\"])\n",
    "rate_emp_yes = tab.loc[\"Yes\",\"Yes\"]/tab.loc[\"Yes\"].sum() if \"Yes\" in tab.index else np.nan\n",
    "rate_emp_no  = tab.loc[\"No\",\"Yes\"]/tab.loc[\"No\"].sum() if \"No\" in tab.index else np.nan\n",
    "print(\"Contingency table (rows=Employed, cols=Success):\\n\", tab, \"\\n\")\n",
    "print(f\"Success rate (Employed=Yes): {rate_emp_yes:.4f}\")\n",
    "print(f\"Success rate (Employed=No):  {rate_emp_no:.4f}\")"
   ]
  },
  {
   "cell_type": "code",
   "execution_count": 15,
   "id": "7a2e8003-385c-44e2-a4bb-24cbce412e20",
   "metadata": {},
   "outputs": [
    {
     "name": "stdout",
     "output_type": "stream",
     "text": [
      "\n",
      "=============================================================\n",
      "Task 6: P(Success=Yes | Business=Yes, Marital_Status=Married)\n",
      "=============================================================\n",
      "Bayesian Network: P(Success=Yes | Business=Yes, Marital_Status=Married) = 0.5816\n",
      "Empirical (from data): P(Success=Yes | Business=Yes, Marital_Status=Married) = 0.6296  (n=27)\n"
     ]
    }
   ],
   "source": [
    "# TASK 6: P(Success | Business=Yes, Marital_Status=Married)\n",
    "print_section(\"Task 6: P(Success=Yes | Business=Yes, Marital_Status=Married)\")\n",
    "bn_p_6 = bn_prob_success_given({\"Business\":\"Yes\",\"Marital_Status\":\"Married\"})\n",
    "(emp_counts6, n6) = empirical_conditional_prob(df, \"Success\", {\"Business\":\"Yes\",\"Marital_Status\":\"Married\"})\n",
    "emp_p_6 = emp_counts6[\"Yes\"] if isinstance(emp_counts6, dict) else np.nan\n",
    "print(f\"Bayesian Network: P(Success=Yes | Business=Yes, Marital_Status=Married) = {bn_p_6:.4f}\")\n",
    "print(f\"Empirical (from data): P(Success=Yes | Business=Yes, Marital_Status=Married) = {emp_p_6:.4f}  (n={n6})\")"
   ]
  },
  {
   "cell_type": "code",
   "execution_count": 16,
   "id": "40919744-a855-45b1-9c23-5357fe69ccec",
   "metadata": {},
   "outputs": [
    {
     "name": "stdout",
     "output_type": "stream",
     "text": [
      "\n",
      "===============================================================\n",
      "Task 7: Joint P(Male, <=35, Employed=Yes, Married, Success=Yes)\n",
      "===============================================================\n",
      "P(evidence) = 0.075910\n",
      "P(Success=Yes | evidence) = 0.268116\n",
      "Joint probability = 0.020353\n"
     ]
    }
   ],
   "source": [
    "# TASK 7: Joint probability of Male, <=35, Employed, Married achieving Success\n",
    "print_section(\"Task 7: Joint P(Male, <=35, Employed=Yes, Married, Success=Yes)\")\n",
    "# We compute: P(G=Male, A=<=35, Employed=Yes, Marital=Married) * P(Success=Yes | that evidence)\n",
    "q_joint = infer.query(\n",
    "    variables=[\"Gender\",\"Age_Group\",\"Employed\",\"Marital_Status\"],\n",
    "    joint=True,\n",
    "    show_progress=False\n",
    ")\n",
    "# helper to index factor by state names\n",
    "def get_factor_value(factor, assign):\n",
    "    # assign is dict: var -> value\n",
    "    # Factor order is factor.scope(), need to find index\n",
    "    idxs = []\n",
    "    for v in factor.scope():\n",
    "        states = factor.state_names[v]\n",
    "        idxs.append(states.index(assign[v]))\n",
    "    return float(factor.values[tuple(idxs)])\n",
    "\n",
    "evidence_assign = {\n",
    "    \"Gender\":\"Male\",\n",
    "    \"Age_Group\":\"<=35\",\n",
    "    \"Employed\":\"Yes\",\n",
    "    \"Marital_Status\":\"Married\",\n",
    "}\n",
    "p_evidence = get_factor_value(q_joint, evidence_assign)\n",
    "p_success_given_evidence = bn_prob_success_given(evidence_assign)\n",
    "joint_prob = p_evidence * p_success_given_evidence\n",
    "print(f\"P(evidence) = {p_evidence:.6f}\")\n",
    "print(f\"P(Success=Yes | evidence) = {p_success_given_evidence:.6f}\")\n",
    "print(f\"Joint probability = {joint_prob:.6f}\")"
   ]
  },
  {
   "cell_type": "code",
   "execution_count": 17,
   "id": "fd573a77-5371-4cbc-8700-32cab874e9cd",
   "metadata": {},
   "outputs": [
    {
     "name": "stdout",
     "output_type": "stream",
     "text": [
      "Requirement already satisfied: pgmpy in c:\\users\\hp\\appdata\\local\\programs\\python\\python312\\lib\\site-packages (1.0.0)\n",
      "Requirement already satisfied: networkx in c:\\users\\hp\\appdata\\local\\programs\\python\\python312\\lib\\site-packages (from pgmpy) (3.5)\n",
      "Requirement already satisfied: numpy in c:\\users\\hp\\appdata\\local\\programs\\python\\python312\\lib\\site-packages (from pgmpy) (2.3.1)\n",
      "Requirement already satisfied: scipy in c:\\users\\hp\\appdata\\local\\programs\\python\\python312\\lib\\site-packages (from pgmpy) (1.16.0)\n",
      "Requirement already satisfied: scikit-learn in c:\\users\\hp\\appdata\\local\\programs\\python\\python312\\lib\\site-packages (from pgmpy) (1.7.1)\n",
      "Requirement already satisfied: pandas in c:\\users\\hp\\appdata\\local\\programs\\python\\python312\\lib\\site-packages (from pgmpy) (2.3.0)\n",
      "Requirement already satisfied: torch in c:\\users\\hp\\appdata\\local\\programs\\python\\python312\\lib\\site-packages (from pgmpy) (2.7.1)\n",
      "Requirement already satisfied: statsmodels in c:\\users\\hp\\appdata\\local\\programs\\python\\python312\\lib\\site-packages (from pgmpy) (0.14.5)\n",
      "Requirement already satisfied: tqdm in c:\\users\\hp\\appdata\\local\\programs\\python\\python312\\lib\\site-packages (from pgmpy) (4.67.1)\n",
      "Requirement already satisfied: joblib in c:\\users\\hp\\appdata\\local\\programs\\python\\python312\\lib\\site-packages (from pgmpy) (1.5.1)\n",
      "Requirement already satisfied: opt-einsum in c:\\users\\hp\\appdata\\local\\programs\\python\\python312\\lib\\site-packages (from pgmpy) (3.4.0)\n",
      "Requirement already satisfied: pyro-ppl in c:\\users\\hp\\appdata\\local\\programs\\python\\python312\\lib\\site-packages (from pgmpy) (1.9.1)\n",
      "Requirement already satisfied: python-dateutil>=2.8.2 in c:\\users\\hp\\appdata\\local\\programs\\python\\python312\\lib\\site-packages (from pandas->pgmpy) (2.9.0.post0)\n",
      "Requirement already satisfied: pytz>=2020.1 in c:\\users\\hp\\appdata\\local\\programs\\python\\python312\\lib\\site-packages (from pandas->pgmpy) (2025.2)\n",
      "Requirement already satisfied: tzdata>=2022.7 in c:\\users\\hp\\appdata\\local\\programs\\python\\python312\\lib\\site-packages (from pandas->pgmpy) (2025.2)\n",
      "Requirement already satisfied: pyro-api>=0.1.1 in c:\\users\\hp\\appdata\\local\\programs\\python\\python312\\lib\\site-packages (from pyro-ppl->pgmpy) (0.1.2)\n",
      "Requirement already satisfied: filelock in c:\\users\\hp\\appdata\\local\\programs\\python\\python312\\lib\\site-packages (from torch->pgmpy) (3.18.0)\n",
      "Requirement already satisfied: typing-extensions>=4.10.0 in c:\\users\\hp\\appdata\\local\\programs\\python\\python312\\lib\\site-packages (from torch->pgmpy) (4.14.0)\n",
      "Requirement already satisfied: sympy>=1.13.3 in c:\\users\\hp\\appdata\\local\\programs\\python\\python312\\lib\\site-packages (from torch->pgmpy) (1.14.0)\n",
      "Requirement already satisfied: jinja2 in c:\\users\\hp\\appdata\\local\\programs\\python\\python312\\lib\\site-packages (from torch->pgmpy) (3.1.6)\n",
      "Requirement already satisfied: fsspec in c:\\users\\hp\\appdata\\local\\programs\\python\\python312\\lib\\site-packages (from torch->pgmpy) (2025.7.0)\n",
      "Requirement already satisfied: setuptools in c:\\users\\hp\\appdata\\local\\programs\\python\\python312\\lib\\site-packages (from torch->pgmpy) (80.9.0)\n",
      "Requirement already satisfied: colorama in c:\\users\\hp\\appdata\\local\\programs\\python\\python312\\lib\\site-packages (from tqdm->pgmpy) (0.4.6)\n",
      "Requirement already satisfied: threadpoolctl>=3.1.0 in c:\\users\\hp\\appdata\\local\\programs\\python\\python312\\lib\\site-packages (from scikit-learn->pgmpy) (3.6.0)\n",
      "Requirement already satisfied: patsy>=0.5.6 in c:\\users\\hp\\appdata\\local\\programs\\python\\python312\\lib\\site-packages (from statsmodels->pgmpy) (1.0.1)\n",
      "Requirement already satisfied: packaging>=21.3 in c:\\users\\hp\\appdata\\local\\programs\\python\\python312\\lib\\site-packages (from statsmodels->pgmpy) (25.0)\n",
      "Requirement already satisfied: six>=1.5 in c:\\users\\hp\\appdata\\local\\programs\\python\\python312\\lib\\site-packages (from python-dateutil>=2.8.2->pandas->pgmpy) (1.17.0)\n",
      "Requirement already satisfied: mpmath<1.4,>=1.1.0 in c:\\users\\hp\\appdata\\local\\programs\\python\\python312\\lib\\site-packages (from sympy>=1.13.3->torch->pgmpy) (1.3.0)\n",
      "Requirement already satisfied: MarkupSafe>=2.0 in c:\\users\\hp\\appdata\\local\\programs\\python\\python312\\lib\\site-packages (from jinja2->torch->pgmpy) (3.0.2)\n",
      "Note: you may need to restart the kernel to use updated packages.\n"
     ]
    },
    {
     "name": "stderr",
     "output_type": "stream",
     "text": [
      "\n",
      "[notice] A new release of pip is available: 25.0.1 -> 25.1.1\n",
      "[notice] To update, run: python.exe -m pip install --upgrade pip\n"
     ]
    }
   ],
   "source": [
    "%pip install pgmpy"
   ]
  },
  {
   "cell_type": "markdown",
   "id": "d6d316af",
   "metadata": {},
   "source": [
    "### Conclusion\n",
    "In this lab, we successfully constructed a Bayesian Network model to understand the probabilistic relationships among demographic and occupational attributes influencing customer success in a marketing campaign. Using the pgmpy library, we defined the structure of the network based on domain knowledge and trained it using the BayesianEstimator on the provided dataset.\n",
    "\n",
    "Key takeaways include:\n",
    "\n",
    "Inference using the model aligned well with empirical observations, validating the network's structure and parameter estimates.\n",
    "\n",
    "Factors like employment status, age group, and marital status significantly influenced the likelihood of campaign success.\n",
    "\n",
    "We visualized the BN structure, computed both conditional and joint probabilities, and interpreted real-world implications from the model’s outputs.\n",
    "\n",
    "This exercise deepened our understanding of probabilistic graphical models and how Bayesian inference can aid decision-making using uncertain, real-world data."
   ]
  }
 ],
 "metadata": {
  "kernelspec": {
   "display_name": "Python 3 (ipykernel)",
   "language": "python",
   "name": "python3"
  },
  "language_info": {
   "codemirror_mode": {
    "name": "ipython",
    "version": 3
   },
   "file_extension": ".py",
   "mimetype": "text/x-python",
   "name": "python",
   "nbconvert_exporter": "python",
   "pygments_lexer": "ipython3",
   "version": "3.12.10"
  }
 },
 "nbformat": 4,
 "nbformat_minor": 5
}
