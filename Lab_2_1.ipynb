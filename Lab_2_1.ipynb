{
  "cells": [
    {
      "cell_type": "markdown",
      "metadata": {
        "id": "nAyOkHF9gd9N"
      },
      "source": [
        "### Deep Learning Lab - II\n",
        "### Name: Durva Deshpande\n",
        "### Batch: A1\n",
        "### Roll No: 4\n",
        "### Practical 2\n",
        "\n",
        "#### Module 2: Bayesian Network - Demo 1: Late to Office"
      ]
    },
    {
      "cell_type": "code",
      "execution_count": 2,
      "metadata": {
        "colab": {
          "base_uri": "https://localhost:8080/"
        },
        "id": "vDkbhhfFgisd",
        "outputId": "821210c7-e35e-45f4-c8c4-2bbb7860ddc9"
      },
      "outputs": [],
      "source": [
        "#!pip install pgmpy==0.1.21"
      ]
    },
    {
      "cell_type": "code",
      "execution_count": 3,
      "metadata": {
        "colab": {
          "base_uri": "https://localhost:8080/",
          "height": 460
        },
        "id": "xW3AKGQFgiFX",
        "outputId": "a09f09f7-3f94-480c-c52a-fa6105fb4d18"
      },
      "outputs": [],
      "source": [
        "#!pip install numpy==1.24.4"
      ]
    },
    {
      "cell_type": "code",
      "execution_count": 4,
      "metadata": {
        "colab": {
          "base_uri": "https://localhost:8080/",
          "height": 331
        },
        "collapsed": true,
        "id": "xzdKZpi2gd9P",
        "outputId": "d9f2c19c-3262-41eb-bee9-af938e367078"
      },
      "outputs": [
        {
          "ename": "ModuleNotFoundError",
          "evalue": "No module named 'pgmpy'",
          "output_type": "error",
          "traceback": [
            "\u001b[1;31m---------------------------------------------------------------------------\u001b[0m",
            "\u001b[1;31mModuleNotFoundError\u001b[0m                       Traceback (most recent call last)",
            "Cell \u001b[1;32mIn[4], line 2\u001b[0m\n\u001b[0;32m      1\u001b[0m \u001b[38;5;66;03m#Bayesian Model\u001b[39;00m\n\u001b[1;32m----> 2\u001b[0m \u001b[38;5;28;01mfrom\u001b[39;00m \u001b[38;5;21;01mpgmpy\u001b[39;00m\u001b[38;5;21;01m.\u001b[39;00m\u001b[38;5;21;01mmodels\u001b[39;00m \u001b[38;5;28;01mimport\u001b[39;00m BayesianModel\n",
            "\u001b[1;31mModuleNotFoundError\u001b[0m: No module named 'pgmpy'"
          ]
        }
      ],
      "source": [
        "#Bayesian Model\n",
        "from pgmpy.models import BayesianModel"
      ]
    },
    {
      "cell_type": "markdown",
      "metadata": {
        "id": "VB43QKIdgd9P"
      },
      "source": [
        "### Create an empty Bayesian Network and add nodes, edges to it"
      ]
    },
    {
      "cell_type": "code",
      "execution_count": null,
      "metadata": {
        "collapsed": true,
        "id": "95oHJdb1gd9Q"
      },
      "outputs": [],
      "source": [
        "# initialize an empty BN or a model with nodes and edges.\n",
        "model = BayesianModel()"
      ]
    },
    {
      "cell_type": "code",
      "execution_count": null,
      "metadata": {
        "collapsed": true,
        "id": "rnOCSKP5gd9Q"
      },
      "outputs": [],
      "source": [
        "#Add nodes and edges to this network:\n",
        "model.add_nodes_from(['smog', 'traffic'])\n",
        "model.add_edge('smog', 'traffic')\n"
      ]
    },
    {
      "cell_type": "code",
      "execution_count": null,
      "metadata": {
        "id": "8dkRVis-gd9Q",
        "outputId": "449acc1b-cfc3-4c22-f7cb-a8f82cc6c7e2"
      },
      "outputs": [
        {
          "data": {
            "text/plain": [
              "['smog', 'traffic']"
            ]
          },
          "execution_count": 4,
          "metadata": {},
          "output_type": "execute_result"
        }
      ],
      "source": [
        "model.nodes()"
      ]
    },
    {
      "cell_type": "code",
      "execution_count": null,
      "metadata": {
        "id": "X8Zfhb6rgd9Q",
        "outputId": "e4a7087e-568c-48fd-b0ec-9706518dced7"
      },
      "outputs": [
        {
          "data": {
            "text/plain": [
              "[('smog', 'traffic')]"
            ]
          },
          "execution_count": 5,
          "metadata": {},
          "output_type": "execute_result"
        }
      ],
      "source": [
        "model.edges()"
      ]
    },
    {
      "cell_type": "code",
      "execution_count": null,
      "metadata": {
        "id": "Y6l3pSANgd9R",
        "outputId": "94a3037f-254e-4fd0-c0e8-dd1661aa24bc"
      },
      "outputs": [
        {
          "data": {
            "text/plain": [
              "['smog', 'traffic', 'accident']"
            ]
          },
          "execution_count": 6,
          "metadata": {},
          "output_type": "execute_result"
        }
      ],
      "source": [
        "model.add_edge('accident', 'traffic')\n",
        "model.nodes()"
      ]
    },
    {
      "cell_type": "code",
      "execution_count": null,
      "metadata": {
        "id": "5ucdgef6gd9R",
        "outputId": "423fcbcf-ed54-4dbd-eb0b-9bfe376b7d6b"
      },
      "outputs": [
        {
          "data": {
            "text/plain": [
              "[('smog', 'traffic'), ('accident', 'traffic')]"
            ]
          },
          "execution_count": 7,
          "metadata": {},
          "output_type": "execute_result"
        }
      ],
      "source": [
        "model.edges()"
      ]
    },
    {
      "cell_type": "markdown",
      "metadata": {
        "id": "sPZexkbWgd9R"
      },
      "source": [
        "### Define CPD's for all the nodes and add them to the network"
      ]
    },
    {
      "cell_type": "code",
      "execution_count": null,
      "metadata": {
        "id": "EiJwLYuZgd9R",
        "outputId": "59a9e285-b79b-460d-937d-9777aafdc72f"
      },
      "outputs": [
        {
          "name": "stdout",
          "output_type": "stream",
          "text": [
            "CPD of Smog +--------+-----+\n",
            "| smog_0 | 0.4 |\n",
            "+--------+-----+\n",
            "| smog_1 | 0.6 |\n",
            "+--------+-----+\n",
            "CPD of Accident +------------+-----+\n",
            "| accident_0 | 0.2 |\n",
            "+------------+-----+\n",
            "| accident_1 | 0.8 |\n",
            "+------------+-----+\n",
            "CPD of Traffic Jam +-----------+------------+------------+------------+------------+\n",
            "| smog      | smog_0     | smog_0     | smog_1     | smog_1     |\n",
            "+-----------+------------+------------+------------+------------+\n",
            "| accident  | accident_0 | accident_1 | accident_0 | accident_1 |\n",
            "+-----------+------------+------------+------------+------------+\n",
            "| traffic_0 | 0.9        | 0.6        | 0.7        | 0.1        |\n",
            "+-----------+------------+------------+------------+------------+\n",
            "| traffic_1 | 0.1        | 0.4        | 0.3        | 0.9        |\n",
            "+-----------+------------+------------+------------+------------+\n"
          ]
        }
      ],
      "source": [
        "from pgmpy.factors.discrete import TabularCPD\n",
        "cpd_smog = TabularCPD('smog', 2, [[0.4], [0.6]])\n",
        "cpd_accident = TabularCPD('accident', 2, [[0.2], [0.8]])\n",
        "cpd_traffic = TabularCPD('traffic', 2,\n",
        "                                [[0.9, 0.6, 0.7, 0.1],\n",
        "                                 [0.1, 0.4, 0.3, 0.9]],\n",
        "                                evidence=['smog', 'accident'],\n",
        "                                evidence_card=[2, 2])\n",
        "print(\"CPD of Smog\", cpd_smog, end=\"\\n\")\n",
        "print(\"CPD of Accident\", cpd_accident, end=\"\\n\")\n",
        "print(\"CPD of Traffic Jam\", cpd_traffic, end=\"\\n\")\n"
      ]
    },
    {
      "cell_type": "code",
      "execution_count": null,
      "metadata": {
        "id": "PM0JV1P0gd9S",
        "outputId": "99a26e8a-8ae0-4422-d5fe-b72c8f7ab32f"
      },
      "outputs": [
        {
          "data": {
            "text/plain": [
              "[<TabularCPD representing P(smog:2) at 0x7f3057b0f908>,\n",
              " <TabularCPD representing P(accident:2) at 0x7f3057b0f8d0>,\n",
              " <TabularCPD representing P(traffic:2 | smog:2, accident:2) at 0x7f3057b0f898>]"
            ]
          },
          "execution_count": 9,
          "metadata": {},
          "output_type": "execute_result"
        }
      ],
      "source": [
        "model.add_cpds(cpd_smog, cpd_accident, cpd_traffic)\n",
        "model.get_cpds()\n"
      ]
    },
    {
      "cell_type": "code",
      "execution_count": null,
      "metadata": {
        "id": "2jPK-LMBgd9S",
        "outputId": "d0fa51de-9a04-4465-cd0c-9c3782066c7a"
      },
      "outputs": [
        {
          "data": {
            "text/plain": [
              "[<TabularCPD representing P(smog:2) at 0x7f3057b0f908>,\n",
              " <TabularCPD representing P(accident:2) at 0x7f3057b0f8d0>,\n",
              " <TabularCPD representing P(traffic:2 | smog:2, accident:2) at 0x7f3057b0f898>,\n",
              " <TabularCPD representing P(woke_late:2) at 0x7f3057b0f4a8>,\n",
              " <TabularCPD representing P(late_to_office:2 | woke_late:2, traffic:2) at 0x7f3057b0f3c8>]"
            ]
          },
          "execution_count": 10,
          "metadata": {},
          "output_type": "execute_result"
        }
      ],
      "source": [
        "model.add_nodes_from(['woke_late',\n",
        "                               'late_to_office'])\n",
        "model.add_edges_from(\n",
        "                   [('woke_late', 'late_to_office'),\n",
        "                    ('traffic', 'late_to_office')])\n",
        "cpd_woke_late = TabularCPD('woke_late', 2,\n",
        "                                          [[0.6], [0.4]])\n",
        "cpd_late_to_office = TabularCPD(\n",
        "                               'late_to_office', 2,\n",
        "                               [[0.9, 0.45, 0.8, 0.1],\n",
        "                                [0.1, 0.55, 0.2, 0.9]],\n",
        "                               evidence=['woke_late',\n",
        "                                         'traffic'],evidence_card=[2, 2])\n",
        "model.add_cpds(cpd_woke_late, cpd_late_to_office)\n",
        "model.get_cpds()\n"
      ]
    },
    {
      "cell_type": "markdown",
      "metadata": {
        "id": "t3EDo8KVgd9S"
      },
      "source": [
        "### Model consistency"
      ]
    },
    {
      "cell_type": "code",
      "execution_count": null,
      "metadata": {
        "id": "XwZO8fKHgd9S",
        "outputId": "b7794274-b714-40b6-fd0b-8be751d3cbf5"
      },
      "outputs": [
        {
          "data": {
            "text/plain": [
              "True"
            ]
          },
          "execution_count": 11,
          "metadata": {},
          "output_type": "execute_result"
        }
      ],
      "source": [
        "model.check_model()"
      ]
    },
    {
      "cell_type": "markdown",
      "metadata": {
        "id": "lHH8P7G6gd9T"
      },
      "source": [
        "### Local Dependencies"
      ]
    },
    {
      "cell_type": "code",
      "execution_count": null,
      "metadata": {
        "id": "DaIAD5ojgd9T",
        "outputId": "a898afde-2886-4d2d-e71c-70ceee569bb7"
      },
      "outputs": [
        {
          "data": {
            "text/plain": [
              "(traffic _|_ woke_late | accident, smog)"
            ]
          },
          "execution_count": 12,
          "metadata": {},
          "output_type": "execute_result"
        }
      ],
      "source": [
        "\n",
        "model.local_independencies('traffic')\n"
      ]
    },
    {
      "cell_type": "code",
      "execution_count": null,
      "metadata": {
        "id": "2oPRpt9_gd9T",
        "outputId": "2ddd0f48-2c97-4f9f-dbd9-4df845f10d6e"
      },
      "outputs": [
        {
          "data": {
            "text/plain": [
              "(woke_late _|_ accident, smog, traffic)\n",
              "(traffic _|_ woke_late | accident, smog)\n",
              "(accident _|_ smog, woke_late)\n",
              "(smog _|_ accident, woke_late)\n",
              "(late_to_office _|_ accident, smog | traffic, woke_late)"
            ]
          },
          "execution_count": 13,
          "metadata": {},
          "output_type": "execute_result"
        }
      ],
      "source": [
        "model.local_independencies(['woke_late', 'traffic', 'accident','smog', 'late_to_office'])"
      ]
    },
    {
      "cell_type": "markdown",
      "metadata": {
        "id": "aOARfrj-gd9T"
      },
      "source": [
        "### Graphical Representation of the Network"
      ]
    },
    {
      "cell_type": "code",
      "execution_count": null,
      "metadata": {
        "id": "X-ouqEiggd9T",
        "outputId": "c8c6cf0a-af73-4a63-ca8e-d8f47b0338ed",
        "scrolled": true
      },
      "outputs": [
        {
          "data": {
            "image/png": "[encoded data removed]",
            "text/plain": [
              "<matplotlib.figure.Figure at 0x7f3057b0f9b0>"
            ]
          },
          "metadata": {},
          "output_type": "display_data"
        }
      ],
      "source": [
        "import warnings\n",
        "warnings.filterwarnings(\"ignore\")\n",
        "import matplotlib.pyplot as plt\n",
        "import networkx as nx\n",
        "nx.draw_shell(model,with_labels=True)\n",
        "plt.show()\n"
      ]
    }
  ],
  "metadata": {
    "colab": {
      "provenance": []
    },
    "kernelspec": {
      "display_name": "Python 3",
      "language": "python",
      "name": "python3"
    },
    "language_info": {
      "codemirror_mode": {
        "name": "ipython",
        "version": 3
      },
      "file_extension": ".py",
      "mimetype": "text/x-python",
      "name": "python",
      "nbconvert_exporter": "python",
      "pygments_lexer": "ipython3",
      "version": "3.13.0"
    }
  },
  "nbformat": 4,
  "nbformat_minor": 0
}
